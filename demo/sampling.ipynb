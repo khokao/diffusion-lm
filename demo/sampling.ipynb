{
 "cells": [
  {
   "cell_type": "code",
   "execution_count": 1,
   "metadata": {},
   "outputs": [],
   "source": [
    "from difflm import DiffusionLMInterface"
   ]
  },
  {
   "cell_type": "code",
   "execution_count": 2,
   "metadata": {},
   "outputs": [
    {
     "name": "stderr",
     "output_type": "stream",
     "text": [
      "2023-06-04 00:30:22,653 | INFO | mode: infer\n",
      "2023-06-04 00:30:22,654 | INFO | Args: {'output': '../output/foo', 'model_ckpt': 'checkpoints/pytorch_model_1.bin', 'clf_ckpt': 'classifier/pytorch_model.bin', 'control_label': 'food : Japanese'}\n",
      "2023-06-04 00:30:22,656 | INFO | Initializing dataset...\n",
      "2023-06-04 00:30:22,656 | INFO | Loading vocabulary from ../output/foo/vocab.json...\n",
      "2023-06-04 00:30:22,658 | INFO | Initializing Diffusion-LM...\n",
      "2023-06-04 00:30:23,675 | INFO | Loading Diffusion-LM checkpoint...\n",
      "2023-06-04 00:30:26,769 | INFO | Initializing Classifier...\n",
      "2023-06-04 00:30:28,502 | INFO | Loading Classifier checkpoint...\n"
     ]
    }
   ],
   "source": [
    "args = {\n",
    "    'output': '../output/foo',\n",
    "    'model_ckpt': 'checkpoints/pytorch_model_1.bin',\n",
    "    'clf_ckpt': 'classifier/pytorch_model.bin',\n",
    "    'control_label': 'food : Japanese'\n",
    "}\n",
    "mode = 'infer'\n",
    "difflm = DiffusionLMInterface(args, mode)"
   ]
  },
  {
   "cell_type": "code",
   "execution_count": 3,
   "metadata": {},
   "outputs": [
    {
     "name": "stderr",
     "output_type": "stream",
     "text": [
      "200it [00:29,  6.71it/s]\n",
      "2023-06-04 00:30:59,024 | INFO | Generated samples are saved to sample_result.json\n"
     ]
    }
   ],
   "source": [
    "sampled_texts = difflm.sample(n_samples=2, control_label='food : Japanese')"
   ]
  },
  {
   "cell_type": "code",
   "execution_count": 4,
   "metadata": {},
   "outputs": [
    {
     "name": "stdout",
     "output_type": "stream",
     "text": [
      "The Dumpling Tree is a cheap Japanese restaurant .\n",
      "The Golden Curry is a family friendly Japanese restaurant located near The Bakers .\n"
     ]
    }
   ],
   "source": [
    "for i in range(len(sampled_texts)):\n",
    "    print(sampled_texts[i]['clean_text'])"
   ]
  }
 ],
 "metadata": {
  "kernelspec": {
   "display_name": ".venv",
   "language": "python",
   "name": "python3"
  },
  "language_info": {
   "codemirror_mode": {
    "name": "ipython",
    "version": 3
   },
   "file_extension": ".py",
   "mimetype": "text/x-python",
   "name": "python",
   "nbconvert_exporter": "python",
   "pygments_lexer": "ipython3",
   "version": "3.9.13"
  },
  "orig_nbformat": 4
 },
 "nbformat": 4,
 "nbformat_minor": 2
}
